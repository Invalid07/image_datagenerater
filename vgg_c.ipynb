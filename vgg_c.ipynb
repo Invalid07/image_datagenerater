{
  "nbformat": 4,
  "nbformat_minor": 0,
  "metadata": {
    "colab": {
      "provenance": []
    },
    "kernelspec": {
      "name": "python3",
      "display_name": "Python 3"
    },
    "language_info": {
      "name": "python"
    }
  },
  "cells": [
    {
      "cell_type": "code",
      "execution_count": null,
      "metadata": {
        "id": "APyz5UgMBfDL"
      },
      "outputs": [],
      "source": [
        "import keras\n",
        "import numpy as np\n",
        "import pandas as pd\n",
        "import matplotlib.pyplot as plt\n",
        "import tensorflow as tf\n",
        "import os\n",
        "import sys\n",
        "import cv2\n",
        "from keras.preprocessing.image import ImageDataGenerator"
      ]
    },
    {
      "cell_type": "code",
      "source": [
        "! mkdir -p /root/.kaggle\n",
        "! mv kaggle.json /root/.kaggle\n"
      ],
      "metadata": {
        "id": "WEnxfZujBzbO"
      },
      "execution_count": null,
      "outputs": []
    },
    {
      "cell_type": "code",
      "source": [
        "import kaggle\n"
      ],
      "metadata": {
        "id": "yfyEsrj2vEX1",
        "colab": {
          "base_uri": "https://localhost:8080/"
        },
        "outputId": "59747caa-d595-4c85-bc38-7b3bce551b29"
      },
      "execution_count": null,
      "outputs": [
        {
          "output_type": "stream",
          "name": "stdout",
          "text": [
            "Warning: Your Kaggle API key is readable by other users on this system! To fix this, you can run 'chmod 600 /root/.kaggle/kaggle.json'\n"
          ]
        }
      ]
    },
    {
      "cell_type": "code",
      "source": [
        "! kaggle competitions download -c dogs-vs-cats\n"
      ],
      "metadata": {
        "colab": {
          "base_uri": "https://localhost:8080/"
        },
        "id": "f08LQ060veAW",
        "outputId": "a3cb2462-b2c0-4f04-e1f7-bec0ffe65769"
      },
      "execution_count": null,
      "outputs": [
        {
          "output_type": "stream",
          "name": "stdout",
          "text": [
            "Warning: Your Kaggle API key is readable by other users on this system! To fix this, you can run 'chmod 600 /root/.kaggle/kaggle.json'\n",
            "Downloading dogs-vs-cats.zip to /content\n",
            " 99% 802M/812M [00:11<00:00, 143MB/s]\n",
            "100% 812M/812M [00:11<00:00, 73.5MB/s]\n"
          ]
        }
      ]
    },
    {
      "cell_type": "code",
      "source": [
        "! unzip dogs-vs-cats.zip\n",
        "\n",
        "\n"
      ],
      "metadata": {
        "colab": {
          "base_uri": "https://localhost:8080/"
        },
        "id": "J_E63Tz7vhJx",
        "outputId": "3b9e7899-bca6-4e2d-c32d-84b358d3cc56"
      },
      "execution_count": null,
      "outputs": [
        {
          "output_type": "stream",
          "name": "stdout",
          "text": [
            "Archive:  dogs-vs-cats.zip\n",
            "  inflating: sampleSubmission.csv    \n",
            "  inflating: test1.zip               \n",
            "  inflating: train.zip               \n"
          ]
        }
      ]
    },
    {
      "cell_type": "code",
      "source": [
        "! unzip -q train.zip"
      ],
      "metadata": {
        "id": "SxK9xedtvrmh"
      },
      "execution_count": null,
      "outputs": []
    },
    {
      "cell_type": "code",
      "source": [
        "from keras.preprocessing.image import ImageDataGenerator\n",
        "from keras.applications.vgg16 import VGG16"
      ],
      "metadata": {
        "id": "kd2mpJG8wBgi"
      },
      "execution_count": null,
      "outputs": []
    },
    {
      "cell_type": "code",
      "source": [
        "conv= VGG16(weights='imagenet',\n",
        "            include_top=False,\n",
        "            input_shape=(150,150,3))"
      ],
      "metadata": {
        "id": "vj5sgpCbwVTb"
      },
      "execution_count": null,
      "outputs": []
    },
    {
      "cell_type": "code",
      "source": [
        "conv.summary()"
      ],
      "metadata": {
        "colab": {
          "base_uri": "https://localhost:8080/"
        },
        "id": "8kem4Tvbwrp9",
        "outputId": "587c6b8f-2428-4443-d488-64ce2825fcb5"
      },
      "execution_count": null,
      "outputs": [
        {
          "output_type": "stream",
          "name": "stdout",
          "text": [
            "Model: \"vgg16\"\n",
            "_________________________________________________________________\n",
            " Layer (type)                Output Shape              Param #   \n",
            "=================================================================\n",
            " input_2 (InputLayer)        [(None, 150, 150, 3)]     0         \n",
            "                                                                 \n",
            " block1_conv1 (Conv2D)       (None, 150, 150, 64)      1792      \n",
            "                                                                 \n",
            " block1_conv2 (Conv2D)       (None, 150, 150, 64)      36928     \n",
            "                                                                 \n",
            " block1_pool (MaxPooling2D)  (None, 75, 75, 64)        0         \n",
            "                                                                 \n",
            " block2_conv1 (Conv2D)       (None, 75, 75, 128)       73856     \n",
            "                                                                 \n",
            " block2_conv2 (Conv2D)       (None, 75, 75, 128)       147584    \n",
            "                                                                 \n",
            " block2_pool (MaxPooling2D)  (None, 37, 37, 128)       0         \n",
            "                                                                 \n",
            " block3_conv1 (Conv2D)       (None, 37, 37, 256)       295168    \n",
            "                                                                 \n",
            " block3_conv2 (Conv2D)       (None, 37, 37, 256)       590080    \n",
            "                                                                 \n",
            " block3_conv3 (Conv2D)       (None, 37, 37, 256)       590080    \n",
            "                                                                 \n",
            " block3_pool (MaxPooling2D)  (None, 18, 18, 256)       0         \n",
            "                                                                 \n",
            " block4_conv1 (Conv2D)       (None, 18, 18, 512)       1180160   \n",
            "                                                                 \n",
            " block4_conv2 (Conv2D)       (None, 18, 18, 512)       2359808   \n",
            "                                                                 \n",
            " block4_conv3 (Conv2D)       (None, 18, 18, 512)       2359808   \n",
            "                                                                 \n",
            " block4_pool (MaxPooling2D)  (None, 9, 9, 512)         0         \n",
            "                                                                 \n",
            " block5_conv1 (Conv2D)       (None, 9, 9, 512)         2359808   \n",
            "                                                                 \n",
            " block5_conv2 (Conv2D)       (None, 9, 9, 512)         2359808   \n",
            "                                                                 \n",
            " block5_conv3 (Conv2D)       (None, 9, 9, 512)         2359808   \n",
            "                                                                 \n",
            " block5_pool (MaxPooling2D)  (None, 4, 4, 512)         0         \n",
            "                                                                 \n",
            "=================================================================\n",
            "Total params: 14714688 (56.13 MB)\n",
            "Trainable params: 14714688 (56.13 MB)\n",
            "Non-trainable params: 0 (0.00 Byte)\n",
            "_________________________________________________________________\n"
          ]
        }
      ]
    },
    {
      "cell_type": "code",
      "source": [
        "del model"
      ],
      "metadata": {
        "id": "41pY5GlOw4tg"
      },
      "execution_count": null,
      "outputs": []
    },
    {
      "cell_type": "code",
      "source": [
        "model =tf.keras.Sequential()\n",
        "model.add(conv)\n",
        "model.add(tf.keras.layers.Flatten())\n",
        "model.add(tf.keras.layers.Dense(128, activation='relu', name=\"h1\")) # Name the layer here\n",
        "model.add(tf.keras.layers.Dense(64, activation='relu', name=\"h2\"))  # Name the layer here\n",
        "model.add(tf.keras.layers.Dense(32, activation='relu', name=\"h3\"))  # Name the layer here\n",
        "model.add(tf.keras.layers.Dense(2, activation='softmax', name=\"output\")) # Name the layer here"
      ],
      "metadata": {
        "id": "XWNQQYwXxxph"
      },
      "execution_count": null,
      "outputs": []
    },
    {
      "cell_type": "code",
      "source": [
        "model.summary()"
      ],
      "metadata": {
        "colab": {
          "base_uri": "https://localhost:8080/"
        },
        "id": "poep1YxyyK86",
        "outputId": "743d6159-3f04-4f1b-9d96-4e55d011d993"
      },
      "execution_count": null,
      "outputs": [
        {
          "output_type": "stream",
          "name": "stdout",
          "text": [
            "Model: \"sequential_1\"\n",
            "_________________________________________________________________\n",
            " Layer (type)                Output Shape              Param #   \n",
            "=================================================================\n",
            " vgg16 (Functional)          (None, 4, 4, 512)         14714688  \n",
            "                                                                 \n",
            " flatten_1 (Flatten)         (None, 8192)              0         \n",
            "                                                                 \n",
            " h1 (Dense)                  (None, 128)               1048704   \n",
            "                                                                 \n",
            " h2 (Dense)                  (None, 64)                8256      \n",
            "                                                                 \n",
            " h3 (Dense)                  (None, 32)                2080      \n",
            "                                                                 \n",
            " output (Dense)              (None, 2)                 66        \n",
            "                                                                 \n",
            "=================================================================\n",
            "Total params: 15773794 (60.17 MB)\n",
            "Trainable params: 15773794 (60.17 MB)\n",
            "Non-trainable params: 0 (0.00 Byte)\n",
            "_________________________________________________________________\n"
          ]
        }
      ]
    },
    {
      "cell_type": "code",
      "source": [
        "conv.trainable = False     #freezing vgg16 becuse it is all ready train so need to train again vgg16"
      ],
      "metadata": {
        "id": "psIPzLcGyPu2"
      },
      "execution_count": null,
      "outputs": []
    },
    {
      "cell_type": "code",
      "source": [
        "! mkdir images\n",
        "!mkdir images/cats\n",
        "! mkdir images/dogs"
      ],
      "metadata": {
        "colab": {
          "base_uri": "https://localhost:8080/"
        },
        "id": "Ovn4LArSynQu",
        "outputId": "9f2f666e-43c3-43fe-dd83-5c82c6f44380"
      },
      "execution_count": null,
      "outputs": [
        {
          "output_type": "stream",
          "name": "stdout",
          "text": [
            "mkdir: cannot create directory ‘images’: File exists\n",
            "mkdir: cannot create directory ‘images/cats’: File exists\n",
            "mkdir: cannot create directory ‘images/dogs’: File exists\n"
          ]
        }
      ]
    },
    {
      "cell_type": "code",
      "source": [
        "import shutil\n",
        "import os # Import the os module\n",
        "from tqdm import tqdm # Import the tqdm module\n",
        "\n",
        "source=\"train/\"\n",
        "ds_cat=\"images/cats/\"\n",
        "ds_dog=\"images/dogs/\"\n",
        "\n",
        "for i in tqdm(os.listdir(source)):\n",
        "  if i.startswith(\"cat\"):\n",
        "    shutil.copy (source+i,ds_cat)\n",
        "  else:\n",
        "    shutil.copy(source+i,ds_dog)"
      ],
      "metadata": {
        "colab": {
          "base_uri": "https://localhost:8080/"
        },
        "id": "FklTI5fmzICg",
        "outputId": "468341c4-b7ac-48cc-f642-7cc255896617"
      },
      "execution_count": null,
      "outputs": [
        {
          "output_type": "stream",
          "name": "stderr",
          "text": [
            "100%|██████████| 25000/25000 [00:08<00:00, 2993.95it/s]\n"
          ]
        }
      ]
    },
    {
      "cell_type": "code",
      "source": [
        "# creating img data generater\n",
        "idg=tf.keras.preprocessing.image.ImageDataGenerator(rescale=1/255.0 ,\n",
        "                                                    validation_split=0.2)"
      ],
      "metadata": {
        "id": "XLbs8e67zNoV"
      },
      "execution_count": null,
      "outputs": []
    },
    {
      "cell_type": "code",
      "source": [
        "# gobaly setting batch size\n",
        "batch_size=28"
      ],
      "metadata": {
        "id": "sqBQzYZuzTE4"
      },
      "execution_count": null,
      "outputs": []
    },
    {
      "cell_type": "code",
      "source": [
        "# training\n",
        "train_idg=idg.flow_from_directory(\"images\",\n",
        "                              target_size=(150,150),\n",
        "                              batch_size=batch_size,\n",
        "                              subset=\"training\")"
      ],
      "metadata": {
        "colab": {
          "base_uri": "https://localhost:8080/"
        },
        "id": "Rbxsra1yzXoD",
        "outputId": "13c776e7-7e7b-4999-fdaf-d8f6229f5581"
      },
      "execution_count": null,
      "outputs": [
        {
          "output_type": "stream",
          "name": "stdout",
          "text": [
            "Found 20000 images belonging to 2 classes.\n"
          ]
        }
      ]
    },
    {
      "cell_type": "code",
      "source": [
        "valdat_idg=idg.flow_from_directory(\"images\",\n",
        "                                   target_size=(150,150),\n",
        "                                batch_size=batch_size,\n",
        "                                subset=\"validation\")"
      ],
      "metadata": {
        "colab": {
          "base_uri": "https://localhost:8080/"
        },
        "id": "X18y1VRDzaWk",
        "outputId": "9b036777-7dbc-4a71-dc65-f048ac8551db"
      },
      "execution_count": null,
      "outputs": [
        {
          "output_type": "stream",
          "name": "stdout",
          "text": [
            "Found 5000 images belonging to 2 classes.\n"
          ]
        }
      ]
    },
    {
      "cell_type": "code",
      "source": [
        "model.compile(optimizer=tf.keras.optimizers.SGD(learning_rate=0.002),\n",
        "             loss=tf.keras.losses.categorical_crossentropy,\n",
        "             metrics=[\"accuracy\"]\n",
        "             )"
      ],
      "metadata": {
        "id": "g4ucDtQCzdXq"
      },
      "execution_count": null,
      "outputs": []
    },
    {
      "cell_type": "code",
      "source": [
        "model.fit(train_idg,\n",
        "          batch_size=batch_size,\n",
        "          epochs=10,\n",
        "          validation_data=valdat_idg)"
      ],
      "metadata": {
        "colab": {
          "base_uri": "https://localhost:8080/"
        },
        "id": "OqqnrYOkz0xF",
        "outputId": "2e5c0430-b594-4745-a9c2-2915c62f13f4"
      },
      "execution_count": null,
      "outputs": [
        {
          "output_type": "stream",
          "name": "stdout",
          "text": [
            "Epoch 1/10\n",
            "715/715 [==============================] - 60s 83ms/step - loss: 0.2798 - accuracy: 0.8784 - val_loss: 0.2490 - val_accuracy: 0.8928\n",
            "Epoch 2/10\n",
            "715/715 [==============================] - 59s 83ms/step - loss: 0.2537 - accuracy: 0.8918 - val_loss: 0.3047 - val_accuracy: 0.8652\n",
            "Epoch 3/10\n",
            "715/715 [==============================] - 61s 85ms/step - loss: 0.2368 - accuracy: 0.8992 - val_loss: 0.2289 - val_accuracy: 0.9040\n",
            "Epoch 4/10\n",
            "715/715 [==============================] - 59s 83ms/step - loss: 0.2281 - accuracy: 0.9031 - val_loss: 0.2508 - val_accuracy: 0.8914\n",
            "Epoch 5/10\n",
            "715/715 [==============================] - 68s 96ms/step - loss: 0.2171 - accuracy: 0.9093 - val_loss: 0.2205 - val_accuracy: 0.9044\n",
            "Epoch 6/10\n",
            "715/715 [==============================] - 59s 83ms/step - loss: 0.2110 - accuracy: 0.9110 - val_loss: 0.2235 - val_accuracy: 0.9062\n",
            "Epoch 7/10\n",
            "715/715 [==============================] - 59s 82ms/step - loss: 0.2038 - accuracy: 0.9130 - val_loss: 0.2404 - val_accuracy: 0.8996\n",
            "Epoch 8/10\n",
            "715/715 [==============================] - 59s 83ms/step - loss: 0.1983 - accuracy: 0.9170 - val_loss: 0.2550 - val_accuracy: 0.8920\n",
            "Epoch 9/10\n",
            "715/715 [==============================] - 68s 96ms/step - loss: 0.1910 - accuracy: 0.9201 - val_loss: 0.2414 - val_accuracy: 0.9018\n",
            "Epoch 10/10\n",
            "715/715 [==============================] - 72s 100ms/step - loss: 0.1887 - accuracy: 0.9222 - val_loss: 0.2114 - val_accuracy: 0.9082\n"
          ]
        },
        {
          "output_type": "execute_result",
          "data": {
            "text/plain": [
              "<keras.src.callbacks.History at 0x79e6878fe770>"
            ]
          },
          "metadata": {},
          "execution_count": 39
        }
      ]
    },
    {
      "cell_type": "code",
      "source": [
        "plt.plot(model.history.history['accuracy'],label=\"acc\")\n",
        "plt.plot(model.history.history['val_accuracy'],label=\"val_accuracy\")\n",
        "plt.legend()"
      ],
      "metadata": {
        "colab": {
          "base_uri": "https://localhost:8080/",
          "height": 447
        },
        "id": "pLVTRtG6z7_o",
        "outputId": "33bd5bb9-801b-4c9c-ffe3-81878fa1a082"
      },
      "execution_count": null,
      "outputs": [
        {
          "output_type": "execute_result",
          "data": {
            "text/plain": [
              "<matplotlib.legend.Legend at 0x79e610d01ae0>"
            ]
          },
          "metadata": {},
          "execution_count": 43
        },
        {
          "output_type": "display_data",
          "data": {
            "text/plain": [
              "<Figure size 640x480 with 1 Axes>"
            ],
            "image/png": "[encoded data removed]"
          },
          "metadata": {}
        }
      ]
    },
    {
      "cell_type": "code",
      "source": [],
      "metadata": {
        "id": "KYuOHQIs4ALW"
      },
      "execution_count": null,
      "outputs": []
    }
  ]
}